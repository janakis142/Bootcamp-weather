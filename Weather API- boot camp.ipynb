{
 "cells": [
  {
   "cell_type": "code",
   "execution_count": 1,
   "metadata": {},
   "outputs": [
    {
     "name": "stdout",
     "output_type": "stream",
     "text": [
      "Enter the city name: bengaluru\n",
      "---------------------------------------------------------------\n",
      "Weather Stats for - BENGALURU  || 23 Jun 2021 | 04:18:00 PM\n",
      "---------------------------------------------------------------\n",
      "Current temperature is: 29.47 deg C\n",
      "Current weather desc  : scattered clouds\n",
      "Current Humidity      : 47 %\n",
      "Current wind speed    : 3.09 kmph\n"
     ]
    }
   ],
   "source": [
    "import requests\n",
    "\n",
    "from datetime import datetime\n",
    "\n",
    "api_key = '2b551f7b5a48b7ec5a218a1183ceede8'\n",
    "location = input(\"Enter the city name: \")\n",
    "\n",
    "complete_api_link = \"https://api.openweathermap.org/data/2.5/weather?q=\"+location+\"&appid=\"+api_key\n",
    "api_link = requests.get(complete_api_link)\n",
    "api_data = api_link.json()\n",
    "\n",
    "\n",
    "temp_city = ((api_data['main']['temp']) - 273.15)\n",
    "weather_desc = api_data['weather'][0]['description']\n",
    "hmdt = api_data['main']['humidity']\n",
    "wind_spd = api_data['wind']['speed']\n",
    "date_time = datetime.now().strftime(\"%d %b %Y | %I:%M:%S %p\")\n",
    "\n",
    "print(\"---------------------------------------------------------------\")\n",
    "print(\"Weather Stats for - {}  || {}\".format(location.upper(),date_time))\n",
    "print(\"---------------------------------------------------------------\")\n",
    "\n",
    "print(\"Current temperature is: {:.2f} deg C\".format(temp_city))\n",
    "print(\"Current weather desc  :\",weather_desc)\n",
    "print(\"Current Humidity      :\",hmdt, '%')\n",
    "print(\"Current wind speed    :\",wind_spd , 'kmph')\n",
    "\n",
    "txtlist = [temp_city, weather_desc, hmdt, wind_spd, date_time]\n",
    "\n",
    "with open(\"textfile.txt\" , mode= 'w' ,encoding= 'utf-8') as f :     \n",
    "                                     \n",
    "    f.write(\"------------------------------------------------------------- \\n \")   \n",
    "    f.write(\"Weather Stats for - {}  || {}\".format(location.upper(), date_time))\n",
    "    f.write(\"\\n------------------------------------------------------------- \\n\")\n",
    "    \n",
    "    f.write(\"Current temperature is: {:.2f} deg C\\n\".format(txtlist[0]))\n",
    "    f.write(\"Current weather desc  : {}\\n\".format(txtlist[1]))\n",
    "    f.write(\"Current Humidity      : {}\\n\".format(txtlist[2],\"%\"))\n",
    "    f.write(\"Current wind speed    : {}\\n\".format(txtlist[3],\"kmph\")) \n",
    "    f.close  "
   ]
  },
  {
   "cell_type": "code",
   "execution_count": null,
   "metadata": {},
   "outputs": [],
   "source": []
  }
 ],
 "metadata": {
  "kernelspec": {
   "display_name": "Python 3",
   "language": "python",
   "name": "python3"
  },
  "language_info": {
   "codemirror_mode": {
    "name": "ipython",
    "version": 3
   },
   "file_extension": ".py",
   "mimetype": "text/x-python",
   "name": "python",
   "nbconvert_exporter": "python",
   "pygments_lexer": "ipython3",
   "version": "3.8.5"
  }
 },
 "nbformat": 4,
 "nbformat_minor": 4
}
